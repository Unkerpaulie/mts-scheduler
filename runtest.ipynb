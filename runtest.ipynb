{
 "cells": [
  {
   "cell_type": "code",
   "execution_count": 1,
   "metadata": {},
   "outputs": [],
   "source": [
    "import sqlite3\n",
    "import pandas as pd"
   ]
  },
  {
   "cell_type": "code",
   "execution_count": 2,
   "metadata": {},
   "outputs": [],
   "source": [
    "db_file = \"users.db\""
   ]
  },
  {
   "cell_type": "code",
   "execution_count": 3,
   "metadata": {},
   "outputs": [],
   "source": [
    "def select_as_df(table):\n",
    "    db = sqlite3.connect(db_file)\n",
    "    qry = f\"SELECT rowid, * FROM {table}\"\n",
    "    result = pd.read_sql_query(qry, db)\n",
    "    return result"
   ]
  },
  {
   "cell_type": "code",
   "execution_count": 28,
   "metadata": {},
   "outputs": [
    {
     "data": {
      "text/html": [
       "<div>\n",
       "<style scoped>\n",
       "    .dataframe tbody tr th:only-of-type {\n",
       "        vertical-align: middle;\n",
       "    }\n",
       "\n",
       "    .dataframe tbody tr th {\n",
       "        vertical-align: top;\n",
       "    }\n",
       "\n",
       "    .dataframe thead th {\n",
       "        text-align: right;\n",
       "    }\n",
       "</style>\n",
       "<table border=\"1\" class=\"dataframe\">\n",
       "  <thead>\n",
       "    <tr style=\"text-align: right;\">\n",
       "      <th></th>\n",
       "      <th>rowid</th>\n",
       "      <th>name</th>\n",
       "      <th>email</th>\n",
       "      <th>hashedpwd</th>\n",
       "      <th>last_off_day</th>\n",
       "    </tr>\n",
       "  </thead>\n",
       "  <tbody>\n",
       "    <tr>\n",
       "      <th>0</th>\n",
       "      <td>1</td>\n",
       "      <td>Peter Parker</td>\n",
       "      <td>pparker@something.com</td>\n",
       "      <td>$2b$12$jENYoMZknYEfvkH0GJQ3MOXikKWlQA7t5OxdDbx...</td>\n",
       "      <td>2023-08-02</td>\n",
       "    </tr>\n",
       "    <tr>\n",
       "      <th>1</th>\n",
       "      <td>2</td>\n",
       "      <td>John Wick</td>\n",
       "      <td>jwick@something.com</td>\n",
       "      <td>$2b$12$dN1oPDUDTl5ByRDxkd0Xk.J1XbJ4cuHfZgzlBcc...</td>\n",
       "      <td></td>\n",
       "    </tr>\n",
       "    <tr>\n",
       "      <th>2</th>\n",
       "      <td>3</td>\n",
       "      <td>Fred Sanford</td>\n",
       "      <td>sandman@something.com</td>\n",
       "      <td>$2b$12$Jl10CUHqPH94xGi0b.9nHu2RUkAHqfNjFbe83YA...</td>\n",
       "      <td></td>\n",
       "    </tr>\n",
       "    <tr>\n",
       "      <th>3</th>\n",
       "      <td>4</td>\n",
       "      <td>Siobhan Tony</td>\n",
       "      <td>sheve@something.com</td>\n",
       "      <td>$2b$12$FQRZ5p65MQsLI8bOoTc3Pe6ZMk1nwvdvlT7oI8N...</td>\n",
       "      <td></td>\n",
       "    </tr>\n",
       "  </tbody>\n",
       "</table>\n",
       "</div>"
      ],
      "text/plain": [
       "   rowid          name                  email  \\\n",
       "0      1  Peter Parker  pparker@something.com   \n",
       "1      2     John Wick    jwick@something.com   \n",
       "2      3  Fred Sanford  sandman@something.com   \n",
       "3      4  Siobhan Tony    sheve@something.com   \n",
       "\n",
       "                                           hashedpwd last_off_day  \n",
       "0  $2b$12$jENYoMZknYEfvkH0GJQ3MOXikKWlQA7t5OxdDbx...   2023-08-02  \n",
       "1  $2b$12$dN1oPDUDTl5ByRDxkd0Xk.J1XbJ4cuHfZgzlBcc...               \n",
       "2  $2b$12$Jl10CUHqPH94xGi0b.9nHu2RUkAHqfNjFbe83YA...               \n",
       "3  $2b$12$FQRZ5p65MQsLI8bOoTc3Pe6ZMk1nwvdvlT7oI8N...               "
      ]
     },
     "execution_count": 28,
     "metadata": {},
     "output_type": "execute_result"
    }
   ],
   "source": [
    "userinfo = select_as_df(\"users\")\n",
    "userinfo"
   ]
  },
  {
   "cell_type": "code",
   "execution_count": 5,
   "metadata": {},
   "outputs": [
    {
     "data": {
      "text/plain": [
       "'pparker@something.com'"
      ]
     },
     "execution_count": 5,
     "metadata": {},
     "output_type": "execute_result"
    }
   ],
   "source": [
    "userinfo.loc[0][\"email\"]"
   ]
  },
  {
   "cell_type": "code",
   "execution_count": 6,
   "metadata": {},
   "outputs": [
    {
     "name": "stdout",
     "output_type": "stream",
     "text": [
      "{\n",
      "  \"usernames\": {\n",
      "    \"pparker@something.com\": {\n",
      "      \"name\": \"Peter Parker\",\n",
      "      \"password\": \"$2b$12$jENYoMZknYEfvkH0GJQ3MOXikKWlQA7t5OxdDbxYZDess66D/4WIG\"\n",
      "    },\n",
      "    \"jwick@something.com\": {\n",
      "      \"name\": \"John Wick\",\n",
      "      \"password\": \"$2b$12$dN1oPDUDTl5ByRDxkd0Xk.J1XbJ4cuHfZgzlBccvDQX5ngtsOvHxm\"\n",
      "    },\n",
      "    \"sandman@something.com\": {\n",
      "      \"name\": \"Fred Sanford\",\n",
      "      \"password\": \"$2b$12$Jl10CUHqPH94xGi0b.9nHu2RUkAHqfNjFbe83YAizk8ktlEFIbFS.\"\n",
      "    }\n",
      "  }\n",
      "}\n"
     ]
    }
   ],
   "source": [
    "u = {}\n",
    "for i in range(len(userinfo)):\n",
    "    u[userinfo.loc[i][\"email\"]] = {\n",
    "        \"name\": userinfo.loc[i][\"name\"],\n",
    "        \"password\": userinfo.loc[i][\"hashedpwd\"],\n",
    "    }\n",
    "\n",
    "credentials = {\"usernames\": u}\n",
    "import json\n",
    "\n",
    "print(json.dumps(credentials, indent=2))"
   ]
  },
  {
   "cell_type": "code",
   "execution_count": 26,
   "metadata": {},
   "outputs": [],
   "source": [
    "def current_user(email):\n",
    "    qry = f\"SELECT * FROM users WHERE email = '{email}'\"\n",
    "    db = sqlite3.connect(db_file)\n",
    "    result = pd.read_sql_query(qry, db).to_dict(\"records\")[0]\n",
    "    return result\n"
   ]
  },
  {
   "cell_type": "code",
   "execution_count": 27,
   "metadata": {},
   "outputs": [
    {
     "data": {
      "text/plain": [
       "{'name': 'Peter Parker',\n",
       " 'email': 'pparker@something.com',\n",
       " 'hashedpwd': '$2b$12$jENYoMZknYEfvkH0GJQ3MOXikKWlQA7t5OxdDbxYZDess66D/4WIG',\n",
       " 'last_off_day': '2023-08-02'}"
      ]
     },
     "execution_count": 27,
     "metadata": {},
     "output_type": "execute_result"
    }
   ],
   "source": [
    "c = current_user(userinfo.loc[0][\"email\"])\n",
    "c"
   ]
  },
  {
   "cell_type": "code",
   "execution_count": 25,
   "metadata": {},
   "outputs": [],
   "source": [
    "from datetime import datetime\n",
    "try:\n",
    "    dt = datetime.strptime(c[\"last_off_day\"], \"%Y-%m-%d\")\n",
    "except:\n",
    "    dt = None\n",
    "\n",
    "dt"
   ]
  },
  {
   "cell_type": "code",
   "execution_count": null,
   "metadata": {},
   "outputs": [],
   "source": []
  }
 ],
 "metadata": {
  "kernelspec": {
   "display_name": "Python 3",
   "language": "python",
   "name": "python3"
  },
  "language_info": {
   "codemirror_mode": {
    "name": "ipython",
    "version": 3
   },
   "file_extension": ".py",
   "mimetype": "text/x-python",
   "name": "python",
   "nbconvert_exporter": "python",
   "pygments_lexer": "ipython3",
   "version": "3.9.6"
  },
  "orig_nbformat": 4
 },
 "nbformat": 4,
 "nbformat_minor": 2
}
