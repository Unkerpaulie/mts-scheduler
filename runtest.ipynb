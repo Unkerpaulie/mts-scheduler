{
 "cells": [
  {
   "cell_type": "code",
   "execution_count": 11,
   "metadata": {},
   "outputs": [],
   "source": [
    "import sqlite3\n",
    "import pandas as pd"
   ]
  },
  {
   "cell_type": "code",
   "execution_count": 12,
   "metadata": {},
   "outputs": [],
   "source": [
    "db_file = \"users.db\""
   ]
  },
  {
   "cell_type": "code",
   "execution_count": 13,
   "metadata": {},
   "outputs": [],
   "source": [
    "def select_as_df(table):\n",
    "    db = sqlite3.connect(db_file)\n",
    "    qry = f\"SELECT rowid, * FROM {table}\"\n",
    "    result = pd.read_sql_query(qry, db)\n",
    "    return result"
   ]
  },
  {
   "cell_type": "code",
   "execution_count": 16,
   "metadata": {},
   "outputs": [
    {
     "data": {
      "text/html": [
       "<div>\n",
       "<style scoped>\n",
       "    .dataframe tbody tr th:only-of-type {\n",
       "        vertical-align: middle;\n",
       "    }\n",
       "\n",
       "    .dataframe tbody tr th {\n",
       "        vertical-align: top;\n",
       "    }\n",
       "\n",
       "    .dataframe thead th {\n",
       "        text-align: right;\n",
       "    }\n",
       "</style>\n",
       "<table border=\"1\" class=\"dataframe\">\n",
       "  <thead>\n",
       "    <tr style=\"text-align: right;\">\n",
       "      <th></th>\n",
       "      <th>rowid</th>\n",
       "      <th>name</th>\n",
       "      <th>email</th>\n",
       "      <th>hashedpwd</th>\n",
       "      <th>last_off_day</th>\n",
       "    </tr>\n",
       "  </thead>\n",
       "  <tbody>\n",
       "    <tr>\n",
       "      <th>0</th>\n",
       "      <td>1</td>\n",
       "      <td>Peter Parker</td>\n",
       "      <td>pparker@something.com</td>\n",
       "      <td>$2b$12$jENYoMZknYEfvkH0GJQ3MOXikKWlQA7t5OxdDbx...</td>\n",
       "      <td></td>\n",
       "    </tr>\n",
       "    <tr>\n",
       "      <th>1</th>\n",
       "      <td>2</td>\n",
       "      <td>John Wick</td>\n",
       "      <td>jwick@something.com</td>\n",
       "      <td>$2b$12$dN1oPDUDTl5ByRDxkd0Xk.J1XbJ4cuHfZgzlBcc...</td>\n",
       "      <td></td>\n",
       "    </tr>\n",
       "    <tr>\n",
       "      <th>2</th>\n",
       "      <td>3</td>\n",
       "      <td>Fred Sanford</td>\n",
       "      <td>sandman@something.com</td>\n",
       "      <td>$2b$12$Jl10CUHqPH94xGi0b.9nHu2RUkAHqfNjFbe83YA...</td>\n",
       "      <td></td>\n",
       "    </tr>\n",
       "  </tbody>\n",
       "</table>\n",
       "</div>"
      ],
      "text/plain": [
       "   rowid          name                  email  \\\n",
       "0      1  Peter Parker  pparker@something.com   \n",
       "1      2     John Wick    jwick@something.com   \n",
       "2      3  Fred Sanford  sandman@something.com   \n",
       "\n",
       "                                           hashedpwd last_off_day  \n",
       "0  $2b$12$jENYoMZknYEfvkH0GJQ3MOXikKWlQA7t5OxdDbx...               \n",
       "1  $2b$12$dN1oPDUDTl5ByRDxkd0Xk.J1XbJ4cuHfZgzlBcc...               \n",
       "2  $2b$12$Jl10CUHqPH94xGi0b.9nHu2RUkAHqfNjFbe83YA...               "
      ]
     },
     "execution_count": 16,
     "metadata": {},
     "output_type": "execute_result"
    }
   ],
   "source": [
    "select_as_df(\"users\")"
   ]
  },
  {
   "cell_type": "code",
   "execution_count": 17,
   "metadata": {},
   "outputs": [
    {
     "data": {
      "text/plain": [
       "['$2b$12$jENYoMZknYEfvkH0GJQ3MOXikKWlQA7t5OxdDbxYZDess66D/4WIG',\n",
       " '$2b$12$dN1oPDUDTl5ByRDxkd0Xk.J1XbJ4cuHfZgzlBccvDQX5ngtsOvHxm',\n",
       " '$2b$12$Jl10CUHqPH94xGi0b.9nHu2RUkAHqfNjFbe83YAizk8ktlEFIbFS.']"
      ]
     },
     "execution_count": 17,
     "metadata": {},
     "output_type": "execute_result"
    }
   ],
   "source": [
    "user_info = select_as_df(\"users\")\n",
    "list(user_info[\"hashedpwd\"])"
   ]
  },
  {
   "cell_type": "code",
   "execution_count": null,
   "metadata": {},
   "outputs": [],
   "source": []
  }
 ],
 "metadata": {
  "kernelspec": {
   "display_name": "Python 3",
   "language": "python",
   "name": "python3"
  },
  "language_info": {
   "codemirror_mode": {
    "name": "ipython",
    "version": 3
   },
   "file_extension": ".py",
   "mimetype": "text/x-python",
   "name": "python",
   "nbconvert_exporter": "python",
   "pygments_lexer": "ipython3",
   "version": "3.9.6"
  },
  "orig_nbformat": 4
 },
 "nbformat": 4,
 "nbformat_minor": 2
}
